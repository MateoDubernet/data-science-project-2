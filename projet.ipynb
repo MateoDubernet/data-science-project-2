{
 "cells": [
  {
   "cell_type": "code",
   "execution_count": 3,
   "metadata": {},
   "outputs": [],
   "source": [
    "import pandas as pd"
   ]
  },
  {
   "attachments": {},
   "cell_type": "markdown",
   "metadata": {},
   "source": [
    "### Partie A - Nettoyage des données"
   ]
  },
  {
   "attachments": {},
   "cell_type": "markdown",
   "metadata": {},
   "source": [
    "#### Question 1"
   ]
  },
  {
   "cell_type": "code",
   "execution_count": 14,
   "metadata": {},
   "outputs": [
    {
     "data": {
      "text/plain": [
       "0        19-Dec\n",
       "1        01-Jan\n",
       "2        01-Jan\n",
       "3        01-Jan\n",
       "4        01-Jan\n",
       "          ...  \n",
       "13315    01-Jan\n",
       "13316    01-Jan\n",
       "13317    01-Jan\n",
       "13318    18-Jun\n",
       "13319    01-Jan\n",
       "Name: availability, Length: 13320, dtype: object"
      ]
     },
     "execution_count": 14,
     "metadata": {},
     "output_type": "execute_result"
    }
   ],
   "source": [
    "df = pd.read_csv(\"./data/dataset.csv\")\n",
    "# df = pd.DataFrame(dataset)\n",
    "df.loc[df['availability'] == 'Immediate Possession', 'availability'] = '01-Jan'\n",
    "df.loc[df['availability'] == 'Ready To Move', 'availability'] = '01-Jan'\n",
    "\n",
    "df['availability']"
   ]
  }
 ],
 "metadata": {
  "kernelspec": {
   "display_name": "Python 3",
   "language": "python",
   "name": "python3"
  },
  "language_info": {
   "codemirror_mode": {
    "name": "ipython",
    "version": 3
   },
   "file_extension": ".py",
   "mimetype": "text/x-python",
   "name": "python",
   "nbconvert_exporter": "python",
   "pygments_lexer": "ipython3",
   "version": "3.11.2"
  },
  "orig_nbformat": 4
 },
 "nbformat": 4,
 "nbformat_minor": 2
}
